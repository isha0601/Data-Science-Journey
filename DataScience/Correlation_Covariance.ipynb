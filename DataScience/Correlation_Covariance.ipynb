{
 "cells": [
  {
   "cell_type": "code",
   "execution_count": 4,
   "id": "777aa37a-addc-468a-beb3-079682e20c45",
   "metadata": {},
   "outputs": [],
   "source": [
    "import pandas as pd\n",
    "import numpy as np\n",
    "import matplotlib.pyplot as plt\n",
    "import seaborn as sns"
   ]
  },
  {
   "cell_type": "code",
   "execution_count": 12,
   "id": "9299bfae-13cd-4579-8bf2-2211576db803",
   "metadata": {},
   "outputs": [],
   "source": [
    "dataset=pd.read_csv('tips.csv')"
   ]
  },
  {
   "cell_type": "code",
   "execution_count": 14,
   "id": "4aef81a7-b826-488a-8b19-c338f78c0c2f",
   "metadata": {},
   "outputs": [
    {
     "data": {
      "text/html": [
       "<div>\n",
       "<style scoped>\n",
       "    .dataframe tbody tr th:only-of-type {\n",
       "        vertical-align: middle;\n",
       "    }\n",
       "\n",
       "    .dataframe tbody tr th {\n",
       "        vertical-align: top;\n",
       "    }\n",
       "\n",
       "    .dataframe thead th {\n",
       "        text-align: right;\n",
       "    }\n",
       "</style>\n",
       "<table border=\"1\" class=\"dataframe\">\n",
       "  <thead>\n",
       "    <tr style=\"text-align: right;\">\n",
       "      <th></th>\n",
       "      <th>total_bill</th>\n",
       "      <th>tip</th>\n",
       "      <th>sex</th>\n",
       "      <th>smoker</th>\n",
       "      <th>day</th>\n",
       "      <th>time</th>\n",
       "      <th>size</th>\n",
       "      <th>price_per_person</th>\n",
       "      <th>Payer Name</th>\n",
       "      <th>CC Number</th>\n",
       "      <th>Payment ID</th>\n",
       "    </tr>\n",
       "  </thead>\n",
       "  <tbody>\n",
       "    <tr>\n",
       "      <th>0</th>\n",
       "      <td>16.99</td>\n",
       "      <td>1.01</td>\n",
       "      <td>Female</td>\n",
       "      <td>No</td>\n",
       "      <td>Sun</td>\n",
       "      <td>Dinner</td>\n",
       "      <td>2</td>\n",
       "      <td>8.49</td>\n",
       "      <td>Christy Cunningham</td>\n",
       "      <td>3560325168603410</td>\n",
       "      <td>Sun2959</td>\n",
       "    </tr>\n",
       "    <tr>\n",
       "      <th>1</th>\n",
       "      <td>10.34</td>\n",
       "      <td>1.66</td>\n",
       "      <td>Male</td>\n",
       "      <td>No</td>\n",
       "      <td>Sun</td>\n",
       "      <td>Dinner</td>\n",
       "      <td>3</td>\n",
       "      <td>3.45</td>\n",
       "      <td>Douglas Tucker</td>\n",
       "      <td>4478071379779230</td>\n",
       "      <td>Sun4608</td>\n",
       "    </tr>\n",
       "    <tr>\n",
       "      <th>2</th>\n",
       "      <td>21.01</td>\n",
       "      <td>3.50</td>\n",
       "      <td>Male</td>\n",
       "      <td>No</td>\n",
       "      <td>Sun</td>\n",
       "      <td>Dinner</td>\n",
       "      <td>3</td>\n",
       "      <td>7.00</td>\n",
       "      <td>Travis Walters</td>\n",
       "      <td>6011812112971322</td>\n",
       "      <td>Sun4458</td>\n",
       "    </tr>\n",
       "    <tr>\n",
       "      <th>3</th>\n",
       "      <td>23.68</td>\n",
       "      <td>3.31</td>\n",
       "      <td>Male</td>\n",
       "      <td>No</td>\n",
       "      <td>Sun</td>\n",
       "      <td>Dinner</td>\n",
       "      <td>2</td>\n",
       "      <td>11.84</td>\n",
       "      <td>Nathaniel Harris</td>\n",
       "      <td>4676137647685994</td>\n",
       "      <td>Sun5260</td>\n",
       "    </tr>\n",
       "    <tr>\n",
       "      <th>4</th>\n",
       "      <td>24.59</td>\n",
       "      <td>3.61</td>\n",
       "      <td>Female</td>\n",
       "      <td>No</td>\n",
       "      <td>Sun</td>\n",
       "      <td>Dinner</td>\n",
       "      <td>4</td>\n",
       "      <td>6.15</td>\n",
       "      <td>Tonya Carter</td>\n",
       "      <td>4832732618637221</td>\n",
       "      <td>Sun2251</td>\n",
       "    </tr>\n",
       "  </tbody>\n",
       "</table>\n",
       "</div>"
      ],
      "text/plain": [
       "   total_bill   tip     sex smoker  day    time  size  price_per_person  \\\n",
       "0       16.99  1.01  Female     No  Sun  Dinner     2              8.49   \n",
       "1       10.34  1.66    Male     No  Sun  Dinner     3              3.45   \n",
       "2       21.01  3.50    Male     No  Sun  Dinner     3              7.00   \n",
       "3       23.68  3.31    Male     No  Sun  Dinner     2             11.84   \n",
       "4       24.59  3.61  Female     No  Sun  Dinner     4              6.15   \n",
       "\n",
       "           Payer Name         CC Number Payment ID  \n",
       "0  Christy Cunningham  3560325168603410    Sun2959  \n",
       "1      Douglas Tucker  4478071379779230    Sun4608  \n",
       "2      Travis Walters  6011812112971322    Sun4458  \n",
       "3    Nathaniel Harris  4676137647685994    Sun5260  \n",
       "4        Tonya Carter  4832732618637221    Sun2251  "
      ]
     },
     "execution_count": 14,
     "metadata": {},
     "output_type": "execute_result"
    }
   ],
   "source": [
    "dataset.head(5)"
   ]
  },
  {
   "cell_type": "code",
   "execution_count": 16,
   "id": "f49eb858-da84-45c2-9fbe-bead268bdb99",
   "metadata": {},
   "outputs": [
    {
     "data": {
      "text/plain": [
       "total_bill          0\n",
       "tip                 0\n",
       "sex                 0\n",
       "smoker              0\n",
       "day                 0\n",
       "time                0\n",
       "size                0\n",
       "price_per_person    0\n",
       "Payer Name          0\n",
       "CC Number           0\n",
       "Payment ID          0\n",
       "dtype: int64"
      ]
     },
     "execution_count": 16,
     "metadata": {},
     "output_type": "execute_result"
    }
   ],
   "source": [
    "dataset.isnull().sum()"
   ]
  },
  {
   "cell_type": "code",
   "execution_count": 18,
   "id": "21954ade-d886-4a83-9922-b68b52ff9058",
   "metadata": {},
   "outputs": [
    {
     "name": "stdout",
     "output_type": "stream",
     "text": [
      "<class 'pandas.core.frame.DataFrame'>\n",
      "RangeIndex: 244 entries, 0 to 243\n",
      "Data columns (total 11 columns):\n",
      " #   Column            Non-Null Count  Dtype  \n",
      "---  ------            --------------  -----  \n",
      " 0   total_bill        244 non-null    float64\n",
      " 1   tip               244 non-null    float64\n",
      " 2   sex               244 non-null    object \n",
      " 3   smoker            244 non-null    object \n",
      " 4   day               244 non-null    object \n",
      " 5   time              244 non-null    object \n",
      " 6   size              244 non-null    int64  \n",
      " 7   price_per_person  244 non-null    float64\n",
      " 8   Payer Name        244 non-null    object \n",
      " 9   CC Number         244 non-null    int64  \n",
      " 10  Payment ID        244 non-null    object \n",
      "dtypes: float64(3), int64(2), object(6)\n",
      "memory usage: 21.1+ KB\n"
     ]
    }
   ],
   "source": [
    "dataset.info()"
   ]
  },
  {
   "cell_type": "code",
   "execution_count": 20,
   "id": "4d7c00d2-4a0f-4a1d-9a2b-365ad0b99279",
   "metadata": {},
   "outputs": [
    {
     "data": {
      "text/html": [
       "<div>\n",
       "<style scoped>\n",
       "    .dataframe tbody tr th:only-of-type {\n",
       "        vertical-align: middle;\n",
       "    }\n",
       "\n",
       "    .dataframe tbody tr th {\n",
       "        vertical-align: top;\n",
       "    }\n",
       "\n",
       "    .dataframe thead th {\n",
       "        text-align: right;\n",
       "    }\n",
       "</style>\n",
       "<table border=\"1\" class=\"dataframe\">\n",
       "  <thead>\n",
       "    <tr style=\"text-align: right;\">\n",
       "      <th></th>\n",
       "      <th>total_bill</th>\n",
       "      <th>tip</th>\n",
       "      <th>size</th>\n",
       "      <th>price_per_person</th>\n",
       "      <th>CC Number</th>\n",
       "    </tr>\n",
       "  </thead>\n",
       "  <tbody>\n",
       "    <tr>\n",
       "      <th>total_bill</th>\n",
       "      <td>1.000000</td>\n",
       "      <td>0.675734</td>\n",
       "      <td>0.598315</td>\n",
       "      <td>0.647554</td>\n",
       "      <td>0.104576</td>\n",
       "    </tr>\n",
       "    <tr>\n",
       "      <th>tip</th>\n",
       "      <td>0.675734</td>\n",
       "      <td>1.000000</td>\n",
       "      <td>0.489299</td>\n",
       "      <td>0.347405</td>\n",
       "      <td>0.110857</td>\n",
       "    </tr>\n",
       "    <tr>\n",
       "      <th>size</th>\n",
       "      <td>0.598315</td>\n",
       "      <td>0.489299</td>\n",
       "      <td>1.000000</td>\n",
       "      <td>-0.175359</td>\n",
       "      <td>-0.030239</td>\n",
       "    </tr>\n",
       "    <tr>\n",
       "      <th>price_per_person</th>\n",
       "      <td>0.647554</td>\n",
       "      <td>0.347405</td>\n",
       "      <td>-0.175359</td>\n",
       "      <td>1.000000</td>\n",
       "      <td>0.135240</td>\n",
       "    </tr>\n",
       "    <tr>\n",
       "      <th>CC Number</th>\n",
       "      <td>0.104576</td>\n",
       "      <td>0.110857</td>\n",
       "      <td>-0.030239</td>\n",
       "      <td>0.135240</td>\n",
       "      <td>1.000000</td>\n",
       "    </tr>\n",
       "  </tbody>\n",
       "</table>\n",
       "</div>"
      ],
      "text/plain": [
       "                  total_bill       tip      size  price_per_person  CC Number\n",
       "total_bill          1.000000  0.675734  0.598315          0.647554   0.104576\n",
       "tip                 0.675734  1.000000  0.489299          0.347405   0.110857\n",
       "size                0.598315  0.489299  1.000000         -0.175359  -0.030239\n",
       "price_per_person    0.647554  0.347405 -0.175359          1.000000   0.135240\n",
       "CC Number           0.104576  0.110857 -0.030239          0.135240   1.000000"
      ]
     },
     "execution_count": 20,
     "metadata": {},
     "output_type": "execute_result"
    }
   ],
   "source": [
    "dataset.select_dtypes([\"float64\",\"int64\"]).corr()"
   ]
  },
  {
   "cell_type": "code",
   "execution_count": 22,
   "id": "47b11a57-1dfc-4a28-8f66-9f307d1ddf93",
   "metadata": {},
   "outputs": [
    {
     "data": {
      "text/html": [
       "<div>\n",
       "<style scoped>\n",
       "    .dataframe tbody tr th:only-of-type {\n",
       "        vertical-align: middle;\n",
       "    }\n",
       "\n",
       "    .dataframe tbody tr th {\n",
       "        vertical-align: top;\n",
       "    }\n",
       "\n",
       "    .dataframe thead th {\n",
       "        text-align: right;\n",
       "    }\n",
       "</style>\n",
       "<table border=\"1\" class=\"dataframe\">\n",
       "  <thead>\n",
       "    <tr style=\"text-align: right;\">\n",
       "      <th></th>\n",
       "      <th>total_bill</th>\n",
       "      <th>tip</th>\n",
       "      <th>size</th>\n",
       "      <th>price_per_person</th>\n",
       "      <th>CC Number</th>\n",
       "    </tr>\n",
       "  </thead>\n",
       "  <tbody>\n",
       "    <tr>\n",
       "      <th>total_bill</th>\n",
       "      <td>7.925294e+01</td>\n",
       "      <td>8.323502e+00</td>\n",
       "      <td>5.065983e+00</td>\n",
       "      <td>1.679995e+01</td>\n",
       "      <td>2.205798e+15</td>\n",
       "    </tr>\n",
       "    <tr>\n",
       "      <th>tip</th>\n",
       "      <td>8.323502e+00</td>\n",
       "      <td>1.914455e+00</td>\n",
       "      <td>6.439064e-01</td>\n",
       "      <td>1.400824e+00</td>\n",
       "      <td>3.634222e+14</td>\n",
       "    </tr>\n",
       "    <tr>\n",
       "      <th>size</th>\n",
       "      <td>5.065983e+00</td>\n",
       "      <td>6.439064e-01</td>\n",
       "      <td>9.045908e-01</td>\n",
       "      <td>-4.860467e-01</td>\n",
       "      <td>-6.814401e+13</td>\n",
       "    </tr>\n",
       "    <tr>\n",
       "      <th>price_per_person</th>\n",
       "      <td>1.679995e+01</td>\n",
       "      <td>1.400824e+00</td>\n",
       "      <td>-4.860467e-01</td>\n",
       "      <td>8.492761e+00</td>\n",
       "      <td>9.338058e+14</td>\n",
       "    </tr>\n",
       "    <tr>\n",
       "      <th>CC Number</th>\n",
       "      <td>2.205798e+15</td>\n",
       "      <td>3.634222e+14</td>\n",
       "      <td>-6.814401e+13</td>\n",
       "      <td>9.338058e+14</td>\n",
       "      <td>5.613771e+30</td>\n",
       "    </tr>\n",
       "  </tbody>\n",
       "</table>\n",
       "</div>"
      ],
      "text/plain": [
       "                    total_bill           tip          size  price_per_person  \\\n",
       "total_bill        7.925294e+01  8.323502e+00  5.065983e+00      1.679995e+01   \n",
       "tip               8.323502e+00  1.914455e+00  6.439064e-01      1.400824e+00   \n",
       "size              5.065983e+00  6.439064e-01  9.045908e-01     -4.860467e-01   \n",
       "price_per_person  1.679995e+01  1.400824e+00 -4.860467e-01      8.492761e+00   \n",
       "CC Number         2.205798e+15  3.634222e+14 -6.814401e+13      9.338058e+14   \n",
       "\n",
       "                     CC Number  \n",
       "total_bill        2.205798e+15  \n",
       "tip               3.634222e+14  \n",
       "size             -6.814401e+13  \n",
       "price_per_person  9.338058e+14  \n",
       "CC Number         5.613771e+30  "
      ]
     },
     "execution_count": 22,
     "metadata": {},
     "output_type": "execute_result"
    }
   ],
   "source": [
    "dataset.select_dtypes([\"float64\",\"int64\"]).cov()"
   ]
  },
  {
   "cell_type": "code",
   "execution_count": 24,
   "id": "eb998eb8-6763-4c83-8107-bc1e4cdde230",
   "metadata": {},
   "outputs": [
    {
     "data": {
      "text/html": [
       "<div>\n",
       "<style scoped>\n",
       "    .dataframe tbody tr th:only-of-type {\n",
       "        vertical-align: middle;\n",
       "    }\n",
       "\n",
       "    .dataframe tbody tr th {\n",
       "        vertical-align: top;\n",
       "    }\n",
       "\n",
       "    .dataframe thead th {\n",
       "        text-align: right;\n",
       "    }\n",
       "</style>\n",
       "<table border=\"1\" class=\"dataframe\">\n",
       "  <thead>\n",
       "    <tr style=\"text-align: right;\">\n",
       "      <th></th>\n",
       "      <th>total_bill</th>\n",
       "      <th>tip</th>\n",
       "      <th>size</th>\n",
       "      <th>price_per_person</th>\n",
       "      <th>CC Number</th>\n",
       "    </tr>\n",
       "  </thead>\n",
       "  <tbody>\n",
       "    <tr>\n",
       "      <th>total_bill</th>\n",
       "      <td>1.000000</td>\n",
       "      <td>0.675734</td>\n",
       "      <td>0.598315</td>\n",
       "      <td>0.647554</td>\n",
       "      <td>0.104576</td>\n",
       "    </tr>\n",
       "    <tr>\n",
       "      <th>tip</th>\n",
       "      <td>0.675734</td>\n",
       "      <td>1.000000</td>\n",
       "      <td>0.489299</td>\n",
       "      <td>0.347405</td>\n",
       "      <td>0.110857</td>\n",
       "    </tr>\n",
       "    <tr>\n",
       "      <th>size</th>\n",
       "      <td>0.598315</td>\n",
       "      <td>0.489299</td>\n",
       "      <td>1.000000</td>\n",
       "      <td>-0.175359</td>\n",
       "      <td>-0.030239</td>\n",
       "    </tr>\n",
       "    <tr>\n",
       "      <th>price_per_person</th>\n",
       "      <td>0.647554</td>\n",
       "      <td>0.347405</td>\n",
       "      <td>-0.175359</td>\n",
       "      <td>1.000000</td>\n",
       "      <td>0.135240</td>\n",
       "    </tr>\n",
       "    <tr>\n",
       "      <th>CC Number</th>\n",
       "      <td>0.104576</td>\n",
       "      <td>0.110857</td>\n",
       "      <td>-0.030239</td>\n",
       "      <td>0.135240</td>\n",
       "      <td>1.000000</td>\n",
       "    </tr>\n",
       "  </tbody>\n",
       "</table>\n",
       "</div>"
      ],
      "text/plain": [
       "                  total_bill       tip      size  price_per_person  CC Number\n",
       "total_bill          1.000000  0.675734  0.598315          0.647554   0.104576\n",
       "tip                 0.675734  1.000000  0.489299          0.347405   0.110857\n",
       "size                0.598315  0.489299  1.000000         -0.175359  -0.030239\n",
       "price_per_person    0.647554  0.347405 -0.175359          1.000000   0.135240\n",
       "CC Number           0.104576  0.110857 -0.030239          0.135240   1.000000"
      ]
     },
     "execution_count": 24,
     "metadata": {},
     "output_type": "execute_result"
    }
   ],
   "source": [
    "data_corr=dataset.select_dtypes([\"float64\",\"int64\"]).corr()\n",
    "data_corr"
   ]
  },
  {
   "cell_type": "code",
   "execution_count": 32,
   "id": "d20f4616-c493-4c0e-9ad4-d4827399368c",
   "metadata": {},
   "outputs": [
    {
     "data": {
      "image/png": "[encoded data removed]",
      "text/plain": [
       "<Figure size 400x300 with 2 Axes>"
      ]
     },
     "metadata": {},
     "output_type": "display_data"
    }
   ],
   "source": [
    "plt.figure(figsize=(4,3))\n",
    "sns.heatmap(data_corr)\n",
    "plt.show()"
   ]
  },
  {
   "cell_type": "code",
   "execution_count": 34,
   "id": "adf0b708-3849-4150-b7ff-7a1fd2401045",
   "metadata": {},
   "outputs": [
    {
     "data": {
      "image/png": "[encoded data removed]",
      "text/plain": [
       "<Figure size 400x300 with 2 Axes>"
      ]
     },
     "metadata": {},
     "output_type": "display_data"
    }
   ],
   "source": [
    "plt.figure(figsize=(4,3))\n",
    "sns.heatmap(data_corr,annot=True)\n",
    "plt.show()"
   ]
  },
  {
   "cell_type": "code",
   "execution_count": 44,
   "id": "fb475334-b20b-429a-a6b3-8cfff2ee51c0",
   "metadata": {},
   "outputs": [
    {
     "data": {
      "text/html": [
       "<div>\n",
       "<style scoped>\n",
       "    .dataframe tbody tr th:only-of-type {\n",
       "        vertical-align: middle;\n",
       "    }\n",
       "\n",
       "    .dataframe tbody tr th {\n",
       "        vertical-align: top;\n",
       "    }\n",
       "\n",
       "    .dataframe thead th {\n",
       "        text-align: right;\n",
       "    }\n",
       "</style>\n",
       "<table border=\"1\" class=\"dataframe\">\n",
       "  <thead>\n",
       "    <tr style=\"text-align: right;\">\n",
       "      <th></th>\n",
       "      <th>total_bill</th>\n",
       "      <th>tip</th>\n",
       "      <th>size</th>\n",
       "      <th>price_per_person</th>\n",
       "      <th>CC Number</th>\n",
       "    </tr>\n",
       "  </thead>\n",
       "  <tbody>\n",
       "    <tr>\n",
       "      <th>total_bill</th>\n",
       "      <td>7.925294e+01</td>\n",
       "      <td>8.323502e+00</td>\n",
       "      <td>5.065983e+00</td>\n",
       "      <td>1.679995e+01</td>\n",
       "      <td>2.205798e+15</td>\n",
       "    </tr>\n",
       "    <tr>\n",
       "      <th>tip</th>\n",
       "      <td>8.323502e+00</td>\n",
       "      <td>1.914455e+00</td>\n",
       "      <td>6.439064e-01</td>\n",
       "      <td>1.400824e+00</td>\n",
       "      <td>3.634222e+14</td>\n",
       "    </tr>\n",
       "    <tr>\n",
       "      <th>size</th>\n",
       "      <td>5.065983e+00</td>\n",
       "      <td>6.439064e-01</td>\n",
       "      <td>9.045908e-01</td>\n",
       "      <td>-4.860467e-01</td>\n",
       "      <td>-6.814401e+13</td>\n",
       "    </tr>\n",
       "    <tr>\n",
       "      <th>price_per_person</th>\n",
       "      <td>1.679995e+01</td>\n",
       "      <td>1.400824e+00</td>\n",
       "      <td>-4.860467e-01</td>\n",
       "      <td>8.492761e+00</td>\n",
       "      <td>9.338058e+14</td>\n",
       "    </tr>\n",
       "    <tr>\n",
       "      <th>CC Number</th>\n",
       "      <td>2.205798e+15</td>\n",
       "      <td>3.634222e+14</td>\n",
       "      <td>-6.814401e+13</td>\n",
       "      <td>9.338058e+14</td>\n",
       "      <td>5.613771e+30</td>\n",
       "    </tr>\n",
       "  </tbody>\n",
       "</table>\n",
       "</div>"
      ],
      "text/plain": [
       "                    total_bill           tip          size  price_per_person  \\\n",
       "total_bill        7.925294e+01  8.323502e+00  5.065983e+00      1.679995e+01   \n",
       "tip               8.323502e+00  1.914455e+00  6.439064e-01      1.400824e+00   \n",
       "size              5.065983e+00  6.439064e-01  9.045908e-01     -4.860467e-01   \n",
       "price_per_person  1.679995e+01  1.400824e+00 -4.860467e-01      8.492761e+00   \n",
       "CC Number         2.205798e+15  3.634222e+14 -6.814401e+13      9.338058e+14   \n",
       "\n",
       "                     CC Number  \n",
       "total_bill        2.205798e+15  \n",
       "tip               3.634222e+14  \n",
       "size             -6.814401e+13  \n",
       "price_per_person  9.338058e+14  \n",
       "CC Number         5.613771e+30  "
      ]
     },
     "execution_count": 44,
     "metadata": {},
     "output_type": "execute_result"
    }
   ],
   "source": [
    "data_cov=dataset.select_dtypes([\"float64\",\"int64\"]).cov()\n",
    "data_cov"
   ]
  },
  {
   "cell_type": "code",
   "execution_count": 42,
   "id": "9566dffa-2e7c-4abb-affd-d8beee356db8",
   "metadata": {},
   "outputs": [
    {
     "data": {
      "image/png": "[encoded data removed]",
      "text/plain": [
       "<Figure size 640x480 with 2 Axes>"
      ]
     },
     "metadata": {},
     "output_type": "display_data"
    }
   ],
   "source": [
    "# plt.figure(figsize=(10,3))\n",
    "sns.heatmap(data_cov,annot=True)\n",
    "plt.show()"
   ]
  },
  {
   "cell_type": "code",
   "execution_count": 46,
   "id": "0b7c481a-f028-450c-acb1-ca778497b5d9",
   "metadata": {},
   "outputs": [],
   "source": [
    "#central limit theorem"
   ]
  },
  {
   "cell_type": "code",
   "execution_count": 62,
   "id": "ba359001-7789-4b1d-85f0-f2954d391ae1",
   "metadata": {},
   "outputs": [],
   "source": [
    "import numpy as np\n",
    "import matplotlib.pyplot as plt\n",
    "import seaborn as sns\n",
    "import pandas as pd"
   ]
  },
  {
   "cell_type": "code",
   "execution_count": 68,
   "id": "c5d6f7ba-94c8-4cd5-b298-0585ffba7c67",
   "metadata": {},
   "outputs": [
    {
     "data": {
      "text/html": [
       "<div>\n",
       "<style scoped>\n",
       "    .dataframe tbody tr th:only-of-type {\n",
       "        vertical-align: middle;\n",
       "    }\n",
       "\n",
       "    .dataframe tbody tr th {\n",
       "        vertical-align: top;\n",
       "    }\n",
       "\n",
       "    .dataframe thead th {\n",
       "        text-align: right;\n",
       "    }\n",
       "</style>\n",
       "<table border=\"1\" class=\"dataframe\">\n",
       "  <thead>\n",
       "    <tr style=\"text-align: right;\">\n",
       "      <th></th>\n",
       "      <th>Pop_data</th>\n",
       "    </tr>\n",
       "  </thead>\n",
       "  <tbody>\n",
       "    <tr>\n",
       "      <th>0</th>\n",
       "      <td>75</td>\n",
       "    </tr>\n",
       "    <tr>\n",
       "      <th>1</th>\n",
       "      <td>73</td>\n",
       "    </tr>\n",
       "    <tr>\n",
       "      <th>2</th>\n",
       "      <td>68</td>\n",
       "    </tr>\n",
       "    <tr>\n",
       "      <th>3</th>\n",
       "      <td>36</td>\n",
       "    </tr>\n",
       "    <tr>\n",
       "      <th>4</th>\n",
       "      <td>94</td>\n",
       "    </tr>\n",
       "    <tr>\n",
       "      <th>...</th>\n",
       "      <td>...</td>\n",
       "    </tr>\n",
       "    <tr>\n",
       "      <th>9995</th>\n",
       "      <td>41</td>\n",
       "    </tr>\n",
       "    <tr>\n",
       "      <th>9996</th>\n",
       "      <td>81</td>\n",
       "    </tr>\n",
       "    <tr>\n",
       "      <th>9997</th>\n",
       "      <td>24</td>\n",
       "    </tr>\n",
       "    <tr>\n",
       "      <th>9998</th>\n",
       "      <td>33</td>\n",
       "    </tr>\n",
       "    <tr>\n",
       "      <th>9999</th>\n",
       "      <td>42</td>\n",
       "    </tr>\n",
       "  </tbody>\n",
       "</table>\n",
       "<p>10000 rows × 1 columns</p>\n",
       "</div>"
      ],
      "text/plain": [
       "      Pop_data\n",
       "0           75\n",
       "1           73\n",
       "2           68\n",
       "3           36\n",
       "4           94\n",
       "...        ...\n",
       "9995        41\n",
       "9996        81\n",
       "9997        24\n",
       "9998        33\n",
       "9999        42\n",
       "\n",
       "[10000 rows x 1 columns]"
      ]
     },
     "execution_count": 68,
     "metadata": {},
     "output_type": "execute_result"
    }
   ],
   "source": [
    "pop_data=[np.random.randint(10,100) for i in range(10000)]\n",
    "# pop_data\n",
    "pop_table=pd.DataFrame({\"Pop_data\":pop_data})\n",
    "pop_table"
   ]
  },
  {
   "cell_type": "code",
   "execution_count": 74,
   "id": "a83e434e-9f16-4e43-86d9-f4200e0192bb",
   "metadata": {},
   "outputs": [
    {
     "data": {
      "image/png": "[encoded data removed]",
      "text/plain": [
       "<Figure size 400x300 with 1 Axes>"
      ]
     },
     "metadata": {},
     "output_type": "display_data"
    }
   ],
   "source": [
    "plt.figure(figsize=(4,3))\n",
    "sns.kdeplot(x=\"Pop_data\",data=pop_table)\n",
    "plt.show()"
   ]
  },
  {
   "cell_type": "code",
   "execution_count": 80,
   "id": "19f425fd-14f8-4768-a21b-76c8d9b9dc07",
   "metadata": {},
   "outputs": [],
   "source": [
    "sample_mean=[]\n",
    "for no_sample in range(50):\n",
    "    sample_data=[]\n",
    "    for i in range(500):\n",
    "        sample_data.append(np.random.choice(pop_data))\n",
    "    sample_mean.append(np.mean(sample_data))"
   ]
  },
  {
   "cell_type": "code",
   "execution_count": 83,
   "id": "6233e709-fc4b-47b1-9bce-89a82864e24d",
   "metadata": {},
   "outputs": [],
   "source": [
    "sample_M=pd.DataFrame({\"Sample_Mean\":sample_mean})"
   ]
  },
  {
   "cell_type": "code",
   "execution_count": 89,
   "id": "49573420-4a39-451e-a272-cd00e3bfb067",
   "metadata": {},
   "outputs": [
    {
     "data": {
      "image/png": "[encoded data removed]",
      "text/plain": [
       "<Figure size 400x300 with 1 Axes>"
      ]
     },
     "metadata": {},
     "output_type": "display_data"
    }
   ],
   "source": [
    "plt.figure(figsize=(4,3))\n",
    "sns.kdeplot(x=\"Sample_Mean\",data=sample_M)\n",
    "plt.show()"
   ]
  },
  {
   "cell_type": "code",
   "execution_count": 93,
   "id": "40a5e5d6-f803-44de-a121-ff3bbc445de7",
   "metadata": {},
   "outputs": [
    {
     "data": {
      "text/plain": [
       "np.float64(54.3119)"
      ]
     },
     "execution_count": 93,
     "metadata": {},
     "output_type": "execute_result"
    }
   ],
   "source": [
    "np.mean(pop_data)"
   ]
  },
  {
   "cell_type": "code",
   "execution_count": 95,
   "id": "e1fb9d33-bccd-4d32-86a9-85ff5a2136a9",
   "metadata": {},
   "outputs": [
    {
     "data": {
      "text/plain": [
       "np.float64(54.03576)"
      ]
     },
     "execution_count": 95,
     "metadata": {},
     "output_type": "execute_result"
    }
   ],
   "source": [
    "np.mean(sample_mean)"
   ]
  },
  {
   "cell_type": "code",
   "execution_count": 97,
   "id": "cbbcbfb5-0a81-42fa-86eb-8c99a673761f",
   "metadata": {},
   "outputs": [],
   "source": [
    "#Z-test"
   ]
  },
  {
   "cell_type": "code",
   "execution_count": 13,
   "id": "c7b351fe-86fc-425f-949d-0def31044f88",
   "metadata": {},
   "outputs": [
    {
     "name": "stdout",
     "output_type": "stream",
     "text": [
      "Collecting scipy\n",
      "  Downloading scipy-1.15.3-cp311-cp311-win_amd64.whl.metadata (60 kB)\n",
      "Requirement already satisfied: numpy<2.5,>=1.23.5 in c:\\users\\victus\\.codegeex\\mamba\\envs\\codegeex-agent\\lib\\site-packages (from scipy) (2.2.6)\n",
      "Downloading scipy-1.15.3-cp311-cp311-win_amd64.whl (41.2 MB)\n",
      "   ---------------------------------------- 0.0/41.2 MB ? eta -:--:--\n",
      "   ---------------------------------------- 0.3/41.2 MB ? eta -:--:--\n",
      "    --------------------------------------- 0.5/41.2 MB 2.4 MB/s eta 0:00:17\n",
      "   - -------------------------------------- 1.0/41.2 MB 2.2 MB/s eta 0:00:19\n",
      "   - -------------------------------------- 1.6/41.2 MB 2.2 MB/s eta 0:00:19\n",
      "   - -------------------------------------- 1.8/41.2 MB 2.2 MB/s eta 0:00:19\n",
      "   -- ------------------------------------- 2.4/41.2 MB 2.1 MB/s eta 0:00:19\n",
      "   -- ------------------------------------- 2.6/41.2 MB 2.1 MB/s eta 0:00:19\n",
      "   --- ------------------------------------ 3.4/41.2 MB 2.1 MB/s eta 0:00:18\n",
      "   --- ------------------------------------ 3.9/41.2 MB 2.2 MB/s eta 0:00:17\n",
      "   ---- ----------------------------------- 4.5/41.2 MB 2.2 MB/s eta 0:00:17\n",
      "   ---- ----------------------------------- 4.7/41.2 MB 2.2 MB/s eta 0:00:17\n",
      "   ----- ---------------------------------- 5.5/41.2 MB 2.3 MB/s eta 0:00:16\n",
      "   ----- ---------------------------------- 6.0/41.2 MB 2.3 MB/s eta 0:00:16\n",
      "   ------ --------------------------------- 6.6/41.2 MB 2.3 MB/s eta 0:00:15\n",
      "   ------- -------------------------------- 7.3/41.2 MB 2.4 MB/s eta 0:00:15\n",
      "   ------- -------------------------------- 8.1/41.2 MB 2.5 MB/s eta 0:00:14\n",
      "   -------- ------------------------------- 8.9/41.2 MB 2.5 MB/s eta 0:00:13\n",
      "   --------- ------------------------------ 9.7/41.2 MB 2.6 MB/s eta 0:00:13\n",
      "   --------- ------------------------------ 10.2/41.2 MB 2.6 MB/s eta 0:00:12\n",
      "   ---------- ----------------------------- 11.0/41.2 MB 2.7 MB/s eta 0:00:12\n",
      "   ----------- ---------------------------- 11.5/41.2 MB 2.6 MB/s eta 0:00:12\n",
      "   ----------- ---------------------------- 12.3/41.2 MB 2.7 MB/s eta 0:00:11\n",
      "   ------------ --------------------------- 13.1/41.2 MB 2.7 MB/s eta 0:00:11\n",
      "   ------------- -------------------------- 13.9/41.2 MB 2.8 MB/s eta 0:00:10\n",
      "   ------------- -------------------------- 14.4/41.2 MB 2.8 MB/s eta 0:00:10\n",
      "   ------------- -------------------------- 14.4/41.2 MB 2.8 MB/s eta 0:00:10\n",
      "   ------------- -------------------------- 14.4/41.2 MB 2.8 MB/s eta 0:00:10\n",
      "   -------------- ------------------------- 15.5/41.2 MB 2.6 MB/s eta 0:00:10\n",
      "   --------------- ------------------------ 15.7/41.2 MB 2.6 MB/s eta 0:00:10\n",
      "   --------------- ------------------------ 16.0/41.2 MB 2.6 MB/s eta 0:00:10\n",
      "   ---------------- ----------------------- 16.5/41.2 MB 2.5 MB/s eta 0:00:10\n",
      "   ---------------- ----------------------- 16.8/41.2 MB 2.5 MB/s eta 0:00:10\n",
      "   ---------------- ----------------------- 17.3/41.2 MB 2.5 MB/s eta 0:00:10\n",
      "   ----------------- ---------------------- 17.6/41.2 MB 2.5 MB/s eta 0:00:10\n",
      "   ----------------- ---------------------- 17.8/41.2 MB 2.4 MB/s eta 0:00:10\n",
      "   ----------------- ---------------------- 18.4/41.2 MB 2.4 MB/s eta 0:00:10\n",
      "   ------------------ --------------------- 18.6/41.2 MB 2.4 MB/s eta 0:00:10\n",
      "   ------------------ --------------------- 18.9/41.2 MB 2.4 MB/s eta 0:00:10\n",
      "   ------------------ --------------------- 19.4/41.2 MB 2.3 MB/s eta 0:00:10\n",
      "   ------------------- -------------------- 19.7/41.2 MB 2.3 MB/s eta 0:00:10\n",
      "   ------------------- -------------------- 19.9/41.2 MB 2.3 MB/s eta 0:00:10\n",
      "   ------------------- -------------------- 20.4/41.2 MB 2.3 MB/s eta 0:00:10\n",
      "   -------------------- ------------------- 20.7/41.2 MB 2.3 MB/s eta 0:00:09\n",
      "   -------------------- ------------------- 21.2/41.2 MB 2.3 MB/s eta 0:00:09\n",
      "   -------------------- ------------------- 21.5/41.2 MB 2.3 MB/s eta 0:00:09\n",
      "   --------------------- ------------------ 22.0/41.2 MB 2.3 MB/s eta 0:00:09\n",
      "   --------------------- ------------------ 22.3/41.2 MB 2.2 MB/s eta 0:00:09\n",
      "   --------------------- ------------------ 22.5/41.2 MB 2.2 MB/s eta 0:00:09\n",
      "   ---------------------- ----------------- 23.1/41.2 MB 2.2 MB/s eta 0:00:09\n",
      "   ---------------------- ----------------- 23.3/41.2 MB 2.2 MB/s eta 0:00:09\n",
      "   ---------------------- ----------------- 23.6/41.2 MB 2.2 MB/s eta 0:00:09\n",
      "   ----------------------- ---------------- 24.1/41.2 MB 2.2 MB/s eta 0:00:08\n",
      "   ----------------------- ---------------- 24.4/41.2 MB 2.2 MB/s eta 0:00:08\n",
      "   ------------------------ --------------- 24.9/41.2 MB 2.2 MB/s eta 0:00:08\n",
      "   ------------------------ --------------- 25.2/41.2 MB 2.2 MB/s eta 0:00:08\n",
      "   ------------------------ --------------- 25.7/41.2 MB 2.1 MB/s eta 0:00:08\n",
      "   ------------------------- -------------- 26.0/41.2 MB 2.1 MB/s eta 0:00:08\n",
      "   ------------------------- -------------- 26.2/41.2 MB 2.1 MB/s eta 0:00:08\n",
      "   ------------------------- -------------- 26.2/41.2 MB 2.1 MB/s eta 0:00:08\n",
      "   ------------------------- -------------- 26.7/41.2 MB 2.1 MB/s eta 0:00:07\n",
      "   -------------------------- ------------- 27.0/41.2 MB 2.1 MB/s eta 0:00:07\n",
      "   -------------------------- ------------- 27.5/41.2 MB 2.1 MB/s eta 0:00:07\n",
      "   -------------------------- ------------- 27.8/41.2 MB 2.1 MB/s eta 0:00:07\n",
      "   --------------------------- ------------ 28.0/41.2 MB 2.1 MB/s eta 0:00:07\n",
      "   --------------------------- ------------ 28.3/41.2 MB 2.0 MB/s eta 0:00:07\n",
      "   --------------------------- ------------ 28.3/41.2 MB 2.0 MB/s eta 0:00:07\n",
      "   --------------------------- ------------ 28.6/41.2 MB 2.0 MB/s eta 0:00:07\n",
      "   --------------------------- ------------ 28.6/41.2 MB 2.0 MB/s eta 0:00:07\n",
      "   --------------------------- ------------ 28.6/41.2 MB 2.0 MB/s eta 0:00:07\n",
      "   ---------------------------- ----------- 29.1/41.2 MB 1.9 MB/s eta 0:00:07\n",
      "   ---------------------------- ----------- 29.4/41.2 MB 1.9 MB/s eta 0:00:07\n",
      "   ---------------------------- ----------- 29.6/41.2 MB 1.9 MB/s eta 0:00:07\n",
      "   ---------------------------- ----------- 29.9/41.2 MB 1.9 MB/s eta 0:00:06\n",
      "   ----------------------------- ---------- 30.4/41.2 MB 1.9 MB/s eta 0:00:06\n",
      "   ----------------------------- ---------- 30.7/41.2 MB 1.9 MB/s eta 0:00:06\n",
      "   ----------------------------- ---------- 30.9/41.2 MB 1.9 MB/s eta 0:00:06\n",
      "   ------------------------------ --------- 31.5/41.2 MB 1.9 MB/s eta 0:00:06\n",
      "   ------------------------------ --------- 31.7/41.2 MB 1.9 MB/s eta 0:00:05\n",
      "   ------------------------------- -------- 32.2/41.2 MB 1.9 MB/s eta 0:00:05\n",
      "   ------------------------------- -------- 32.5/41.2 MB 1.9 MB/s eta 0:00:05\n",
      "   -------------------------------- ------- 33.0/41.2 MB 1.9 MB/s eta 0:00:05\n",
      "   -------------------------------- ------- 33.3/41.2 MB 1.9 MB/s eta 0:00:05\n",
      "   -------------------------------- ------- 33.6/41.2 MB 1.9 MB/s eta 0:00:05\n",
      "   --------------------------------- ------ 34.1/41.2 MB 1.9 MB/s eta 0:00:04\n",
      "   --------------------------------- ------ 34.3/41.2 MB 1.9 MB/s eta 0:00:04\n",
      "   --------------------------------- ------ 34.9/41.2 MB 1.9 MB/s eta 0:00:04\n",
      "   ---------------------------------- ----- 35.1/41.2 MB 1.9 MB/s eta 0:00:04\n",
      "   ---------------------------------- ----- 35.7/41.2 MB 1.9 MB/s eta 0:00:03\n",
      "   ---------------------------------- ----- 35.9/41.2 MB 1.9 MB/s eta 0:00:03\n",
      "   ----------------------------------- ---- 36.2/41.2 MB 1.9 MB/s eta 0:00:03\n",
      "   ----------------------------------- ---- 36.7/41.2 MB 1.9 MB/s eta 0:00:03\n",
      "   ----------------------------------- ---- 37.0/41.2 MB 1.9 MB/s eta 0:00:03\n",
      "   ------------------------------------ --- 37.5/41.2 MB 1.9 MB/s eta 0:00:03\n",
      "   ------------------------------------ --- 37.7/41.2 MB 1.9 MB/s eta 0:00:02\n",
      "   ------------------------------------- -- 38.3/41.2 MB 1.9 MB/s eta 0:00:02\n",
      "   ------------------------------------- -- 38.5/41.2 MB 1.9 MB/s eta 0:00:02\n",
      "   ------------------------------------- -- 39.1/41.2 MB 1.9 MB/s eta 0:00:02\n",
      "   -------------------------------------- - 39.3/41.2 MB 1.9 MB/s eta 0:00:02\n",
      "   -------------------------------------- - 39.8/41.2 MB 1.9 MB/s eta 0:00:01\n",
      "   -------------------------------------- - 40.1/41.2 MB 1.9 MB/s eta 0:00:01\n",
      "   ---------------------------------------  40.4/41.2 MB 1.9 MB/s eta 0:00:01\n",
      "   ---------------------------------------  40.6/41.2 MB 1.9 MB/s eta 0:00:01\n",
      "   ---------------------------------------  41.2/41.2 MB 1.9 MB/s eta 0:00:01\n",
      "   ---------------------------------------- 41.2/41.2 MB 1.9 MB/s eta 0:00:00\n",
      "Installing collected packages: scipy\n",
      "Successfully installed scipy-1.15.3\n"
     ]
    }
   ],
   "source": [
    "!pip install scipy\n",
    "import scipy.stats as st\n",
    "import numpy as np"
   ]
  },
  {
   "cell_type": "code",
   "execution_count": 14,
   "id": "6c17df69-ff70-46bd-86bc-ba10b48aa21e",
   "metadata": {},
   "outputs": [],
   "source": [
    "# print(st.norm.ppf(0.95))"
   ]
  },
  {
   "cell_type": "code",
   "execution_count": 21,
   "id": "41039232-94c3-4e6b-9448-4cfb106d7d1f",
   "metadata": {},
   "outputs": [],
   "source": [
    "s_x=90\n",
    "p_u=82\n",
    "p_std=20\n",
    "n=81\n",
    "ap=0.05"
   ]
  },
  {
   "cell_type": "code",
   "execution_count": 27,
   "id": "91033b87-c967-412d-8f67-b6be0fc74e94",
   "metadata": {},
   "outputs": [
    {
     "data": {
      "text/plain": [
       "np.float64(3.5999999999999996)"
      ]
     },
     "execution_count": 27,
     "metadata": {},
     "output_type": "execute_result"
    }
   ],
   "source": [
    "z_cal=(s_x-p_u)/(p_std/np.sqrt(n))\n",
    "z_cal"
   ]
  },
  {
   "cell_type": "code",
   "execution_count": 29,
   "id": "8431f320-08ac-4d46-a7da-5888e4eed745",
   "metadata": {},
   "outputs": [],
   "source": [
    "z_table=st.norm.ppf(1-ap)"
   ]
  },
  {
   "cell_type": "code",
   "execution_count": 31,
   "id": "03b41912-52f2-4ded-9357-87b81fba4e81",
   "metadata": {},
   "outputs": [
    {
     "data": {
      "text/plain": [
       "np.float64(1.6448536269514722)"
      ]
     },
     "execution_count": 31,
     "metadata": {},
     "output_type": "execute_result"
    }
   ],
   "source": [
    "z_table\n"
   ]
  },
  {
   "cell_type": "code",
   "execution_count": 33,
   "id": "77551afb-7b9c-4ea8-8e68-c85c51c2ddf1",
   "metadata": {},
   "outputs": [
    {
     "name": "stdout",
     "output_type": "stream",
     "text": [
      "ha is right\n"
     ]
    }
   ],
   "source": [
    "if z_table<z_cal:\n",
    "    print(\"ha is right\")\n",
    "else:\n",
    "    print(\"ho is right\")"
   ]
  },
  {
   "cell_type": "code",
   "execution_count": 35,
   "id": "be3ac125-8bd4-48fa-852f-09e0c26cd90e",
   "metadata": {},
   "outputs": [],
   "source": [
    "#t test"
   ]
  },
  {
   "cell_type": "code",
   "execution_count": 37,
   "id": "9d16c88c-1c1b-4011-b2f3-d2d6a3d98966",
   "metadata": {},
   "outputs": [],
   "source": [
    "import scipy.stats as st"
   ]
  },
  {
   "cell_type": "code",
   "execution_count": 43,
   "id": "d98797a9-07cd-4959-a982-c10fdcd7610b",
   "metadata": {},
   "outputs": [
    {
     "data": {
      "text/plain": [
       "np.float64(-1.7108820799094282)"
      ]
     },
     "execution_count": 43,
     "metadata": {},
     "output_type": "execute_result"
    }
   ],
   "source": [
    "t_table=st.t.ppf(0.05,24)  #0.05 is alpha value and 24 is degree of freedom\n",
    "t_table"
   ]
  },
  {
   "cell_type": "code",
   "execution_count": 45,
   "id": "431ec606-601f-42c1-b31b-67cb52e00a60",
   "metadata": {},
   "outputs": [],
   "source": [
    "#chi squared table"
   ]
  },
  {
   "cell_type": "code",
   "execution_count": 49,
   "id": "22574dfa-c2ba-4bce-bb64-0eecfbdc5d10",
   "metadata": {},
   "outputs": [],
   "source": [
    "ob=np.array([22,17,20,26,22,13])\n",
    "ex=np.array([20,20,20,20,20,20])"
   ]
  },
  {
   "cell_type": "code",
   "execution_count": 51,
   "id": "3ea61396-cb11-4b9d-955a-f920a276f9f6",
   "metadata": {},
   "outputs": [
    {
     "data": {
      "text/plain": [
       "array([ 2, -3,  0,  6,  2, -7])"
      ]
     },
     "execution_count": 51,
     "metadata": {},
     "output_type": "execute_result"
    }
   ],
   "source": [
    "ob-ex"
   ]
  },
  {
   "cell_type": "code",
   "execution_count": 53,
   "id": "ac8062d0-c131-402c-9ed8-9891b13dce3c",
   "metadata": {},
   "outputs": [
    {
     "data": {
      "text/plain": [
       "array([ 4,  9,  0, 36,  4, 49])"
      ]
     },
     "execution_count": 53,
     "metadata": {},
     "output_type": "execute_result"
    }
   ],
   "source": [
    "np.square(ob-ex)"
   ]
  },
  {
   "cell_type": "code",
   "execution_count": 55,
   "id": "84863b57-08d4-4531-88ad-73d24d367b9b",
   "metadata": {},
   "outputs": [
    {
     "data": {
      "text/plain": [
       "array([0.2 , 0.45, 0.  , 1.8 , 0.2 , 2.45])"
      ]
     },
     "execution_count": 55,
     "metadata": {},
     "output_type": "execute_result"
    }
   ],
   "source": [
    "np.square(ob-ex)/ex"
   ]
  },
  {
   "cell_type": "code",
   "execution_count": 59,
   "id": "d57e3957-87f8-41e3-ac46-5cc3de697a8d",
   "metadata": {},
   "outputs": [],
   "source": [
    "chi_cal=np.sum(np.square(ob-ex)/ex)"
   ]
  },
  {
   "cell_type": "code",
   "execution_count": null,
   "id": "98282799-61ce-491b-9b93-cb9b1728af7e",
   "metadata": {},
   "outputs": [],
   "source": []
  }
 ],
 "metadata": {
  "kernelspec": {
   "display_name": "Python [conda env:mamba-codegeex-agent]",
   "language": "python",
   "name": "conda-env-mamba-codegeex-agent-py"
  },
  "language_info": {
   "codemirror_mode": {
    "name": "ipython",
    "version": 3
   },
   "file_extension": ".py",
   "mimetype": "text/x-python",
   "name": "python",
   "nbconvert_exporter": "python",
   "pygments_lexer": "ipython3",
   "version": "3.11.0"
  }
 },
 "nbformat": 4,
 "nbformat_minor": 5
}
